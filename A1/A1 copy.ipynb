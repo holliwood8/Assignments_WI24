{
 "cells": [
  {
   "cell_type": "code",
   "execution_count": 1,
   "metadata": {
    "deletable": false,
    "editable": false
   },
   "outputs": [],
   "source": [
    "# Initialize Otter\n",
    "import otter\n",
    "grader = otter.Notebook(\"A1.ipynb\")"
   ]
  },
  {
   "cell_type": "markdown",
   "metadata": {
    "nbgrader": {
     "grade": false,
     "grade_id": "cell-6a5c4dbc3992de27",
     "locked": true,
     "schema_version": 3,
     "solution": false
    }
   },
   "source": [
    "# Assignment 1 (10 Points in total, will be 10% of your grade)"
   ]
  },
  {
   "cell_type": "markdown",
   "metadata": {
    "nbgrader": {
     "grade": false,
     "grade_id": "cell-3e544e64e17ca55b",
     "locked": true,
     "schema_version": 3,
     "solution": false
    }
   },
   "source": [
    "## How to complete assignments\n",
    "\n",
    "There are both code and math/text components to these assignments.\n",
    "\n",
    "### Math/text responses\n",
    "\n",
    "Whenever you see:\n",
    "\n",
    "```markdown\n",
    "_Type your answer here, replacing this text._ \n",
    "```\n",
    "\n",
    "You should editing this Markdown cell and insert your answers. \n",
    "\n",
    "If the question is asking for math use LaTeX. Tutorials on using LaTeX ( Scott insert something here).  Also some generic advice.  Avoid XXX . Use YYY instead. (Scott what was the ams-math environment that gave us problems last quarter??)\n",
    "\n",
    "An example:\n",
    "\n",
    "\n",
    "#### Question: Given a triangle with sides $x,y,z$ where $x=3$, $y=4$ calculate $z$\n",
    "\n",
    "Your answer in the markdown should be\n",
    "\n",
    "```\n",
    "$z = \\sqrt{x^2 + y^2} = \\sqrt{3^2+4^2} = \\sqrt{25} = 5$\n",
    "```\n",
    "which will render as \n",
    "\n",
    "$z = \\sqrt{x^2 + y^2} = \\sqrt{3^2+4^2} = \\sqrt{25} = 5$\n",
    "\n",
    "_Note:_ Be sure to not having any trailing space after the first dollar sign and before the second dollar sign. i.e. Don't do `$ x = 5 $`, instead, do `$x=5$`\n",
    "\n",
    "These responses will mostly be manually graded. There is leeway for individual style in notation, so don't worry too much as long as you don't write anything that is false. \n",
    "\n",
    "### Code responses\n",
    "\n",
    "Whenever you see:\n",
    "\n",
    "```python\n",
    "answers = ...\n",
    "```\n",
    "\n",
    "You need to replace this section with some code that answers the questions and meets the specified criteria. Make sure you remove the 'raise' line when you do this (or your notebook will raise an error, regardless of any other code, and thus fail the grading tests).\n",
    "\n",
    "You should write the answer to the questions in those cells (the ones with `...`), but you can also add extra cells to explore / investigate things if you need / want to. \n",
    "\n",
    "Any cell with `grader.check(\"Question_id\")` statements in it is a test cell. You should not try to change or delete these cells. Note that there might be more than one assert that tests a particular question. Once you run the cell, you will see the public tests we provided for you.\n",
    "\n",
    "If a test does fail, reading the error that is printed out should let you know which test failed, which may be useful for fixing it.\n",
    "\n",
    "Note that some cells, including the test cells, may be read only, which means they won't let you edit them. If you cannot edit a cell - that is normal, and you shouldn't need to edit that cell."
   ]
  },
  {
   "cell_type": "markdown",
   "metadata": {},
   "source": [
    "## Q1: Basic Probability (0.75 Points)\n",
    "\n",
    "For two events $A$ and $B$, it is given that $P(A) = 0.73$, $P(B) = 0.48$ and $P(A \\cap B) = 0.29$."
   ]
  },
  {
   "cell_type": "markdown",
   "metadata": {
    "deletable": false,
    "editable": false
   },
   "source": [
    "<!-- BEGIN QUESTION -->\n",
    "\n",
    "### Q1.1 Find $P(A|B)$\n",
    "\n",
    "_Points:_ 0.25"
   ]
  },
  {
   "cell_type": "markdown",
   "metadata": {},
   "source": [
    "$P(A|B)=\\frac{P(A \\cap B)}{P(B)} = \\frac {0.29}{0.48} \\approx0.604167$"
   ]
  },
  {
   "cell_type": "markdown",
   "metadata": {
    "deletable": false,
    "editable": false
   },
   "source": [
    "<!-- END QUESTION -->\n",
    "\n",
    "<!-- BEGIN QUESTION -->\n",
    "\n",
    "### Q1.2 Find $P(B|A)$\n",
    "\n",
    "_Points:_ 0.25"
   ]
  },
  {
   "cell_type": "markdown",
   "metadata": {},
   "source": [
    "$P(B|A) = \\frac{P(A|B)P(B)}{P(A)} = \\frac{0.604167*0.48}{0.73}\\approx 0.397260$"
   ]
  },
  {
   "cell_type": "markdown",
   "metadata": {
    "deletable": false,
    "editable": false
   },
   "source": [
    "<!-- END QUESTION -->\n",
    "\n",
    "<!-- BEGIN QUESTION -->\n",
    "\n",
    "### Q1.3 Determine whether or not $A$ and $B$ are independent.\n",
    "\n",
    "_Points:_ 0.25"
   ]
  },
  {
   "cell_type": "markdown",
   "metadata": {},
   "source": [
    "$P(A \\cap B) = 0.29 \\neq P(A)P(B) = 0.73 * 0.48 = 0.3504$ \n",
    "\n",
    "A and B are not independent"
   ]
  },
  {
   "cell_type": "markdown",
   "metadata": {
    "deletable": false,
    "editable": false
   },
   "source": [
    "<!-- END QUESTION -->\n",
    "\n",
    "## Q2: Drawing Bills from Boxes (0.8 Points)\n",
    "\n",
    "There are three boxes: a red box, a green box, and a blue box.\n",
    "\n",
    "* The **red** box has one 100-dollar bill and nine 1-dollar bills.\n",
    "* The **green** box has five 100-dollar bills and five 1-dollar bills\n",
    "* The **blue** box has nine 100-dollar bills and one 1-dollar bill.\n",
    "\n",
    "One box is chosen at random with the probabilities P(red) = 0.6, P(Green) = 0.3, and P(Blue) = 0.1. Then, a bill is picked at random from the chosen box."
   ]
  },
  {
   "cell_type": "markdown",
   "metadata": {
    "deletable": false,
    "editable": false
   },
   "source": [
    "<!-- BEGIN QUESTION -->\n",
    "\n",
    "### Q2.1 What is the probability of picking a 100-dollar bill?\n",
    "\n",
    "_Points:_ 0.2"
   ]
  },
  {
   "cell_type": "markdown",
   "metadata": {},
   "source": [
    "\n",
    "R = select red box  \n",
    "G = select green box \n",
    "B = select blue box  \n",
    "H = select a 100-dollar bill  \n",
    "O = select a 1-dollar bill  \n",
    "\n",
    "$P(H) = P(H|R)P(R) + P(H|G)P(G) + P(H|B)P(B)= \\frac{1}{10}*\\frac{6}{10}+\\frac{1}{2}*\\frac{3}{10}+\\frac{9}{10}*\\frac{1}{10}=0.3$"
   ]
  },
  {
   "cell_type": "markdown",
   "metadata": {
    "deletable": false,
    "editable": false
   },
   "source": [
    "<!-- END QUESTION -->\n",
    "\n",
    "<!-- BEGIN QUESTION -->\n",
    "\n",
    "### Q2.2 What is the probability of picking a 1-dollar bill?\n",
    "\n",
    "_Points:_ 0.2"
   ]
  },
  {
   "cell_type": "markdown",
   "metadata": {},
   "source": [
    "$P(O) = 1 - P(H) = 1 - 0.3 = 0.7$"
   ]
  },
  {
   "cell_type": "markdown",
   "metadata": {
    "deletable": false,
    "editable": false
   },
   "source": [
    "<!-- END QUESTION -->\n",
    "\n",
    "<!-- BEGIN QUESTION -->\n",
    "\n",
    "### Q2.3 Given that the picked bill is a 100-dollar bill, what is the probability that it came from the Green box?\n",
    "\n",
    "_Points:_ 0.2"
   ]
  },
  {
   "cell_type": "markdown",
   "metadata": {},
   "source": [
    "$P(G|H) = \\frac{P(H|G)P(G)}{P(H)} = \\frac{1}{2}*\\frac{3}{10}*\\frac{10}{3} = \\frac{1}{2}$"
   ]
  },
  {
   "cell_type": "markdown",
   "metadata": {
    "deletable": false,
    "editable": false
   },
   "source": [
    "<!-- END QUESTION -->\n",
    "\n",
    "<!-- BEGIN QUESTION -->\n",
    "\n",
    "### Q2.4 Let’s draw a random bill out of the box. What is the expected value of the dollar worth of the bill? What does that mean?\n",
    "\n",
    "_Points:_ 0.2"
   ]
  },
  {
   "cell_type": "markdown",
   "metadata": {},
   "source": [
    "W = random variable; worth of dollar bill\n",
    "\n",
    "$E[W] = \\sum_{x=0}^\\infty xP(W=x) = 100 * 0.3 + 1 * 0.7 = 30.7$"
   ]
  },
  {
   "cell_type": "markdown",
   "metadata": {
    "deletable": false,
    "editable": false
   },
   "source": [
    "<!-- END QUESTION -->\n",
    "\n",
    "## Q3 Distribution 101 (0.6 Point)"
   ]
  },
  {
   "cell_type": "markdown",
   "metadata": {
    "deletable": false,
    "editable": false
   },
   "source": [
    "<!-- BEGIN QUESTION -->\n",
    "\n",
    "### Q3.1 \n",
    "\n",
    "![title](imgs/distribution.png)\n",
    "\n",
    "Here is some data. Do you think this would be well-fit by a single normal distribution? If not, is there another distribution that you would suggest to fit this data? Do you think this data would be well fit by multiple normal distributions? If so, how many would you suggest, and why that? Don’t freak out here… while there are better and worse answers to this question there is not just a single right answer.  \n",
    "\n",
    "_Points:_ 0.2"
   ]
  },
  {
   "cell_type": "markdown",
   "metadata": {},
   "source": [
    "In my opinion, this data would not be well-fit by a single gaussian distribution, as there is not a clear mean around which most of the values are distributed, and the overall shape of the graph doesn't resemble a gaussian. Instead, I would model the data by two normal distributions, because the graph seems to show 2 peaks/means with a high concentration of data ('count'), that diminish with further distance from the relative mean.  "
   ]
  },
  {
   "cell_type": "markdown",
   "metadata": {
    "deletable": false,
    "editable": false
   },
   "source": [
    "<!-- END QUESTION -->\n",
    "\n",
    "<!-- BEGIN QUESTION -->\n",
    "\n",
    "### Q3.2\n",
    "Picking a distribution by eye like we did above is NOT good.  It’s best if you have a theoretical reason, based on the math of the thing you are modeling. With that in mind, what kind of distribution (or distributions!) would you expect to use to model _____ and why:\n",
    "1. Whether a coin is fair or not?\n",
    "2. How frequently we expect customers to enter a store?\n",
    "3. Height of male college basketball players\n",
    "4. Height among all college freshmen\n",
    "\n",
    "\n",
    "_Points:_ 0.4"
   ]
  },
  {
   "cell_type": "markdown",
   "metadata": {},
   "source": [
    "1. Binomial distribution. A fair coin lands heads 50% of the time on average, so to model whether a coin is fair or not, one must consider the number of heads relative to the total number of flips (n). The distribution that counts the number of wins in n independent trials is the binomial.\n",
    "2. Exponential distribution\n",
    "3. \n",
    "4. "
   ]
  },
  {
   "cell_type": "markdown",
   "metadata": {
    "deletable": false,
    "editable": false
   },
   "source": [
    "<!-- END QUESTION -->\n",
    "\n",
    "## Q4 Expected Value and Variance (0.85 Points)\n",
    "Prove the following properties of Bernoulli Distribution."
   ]
  },
  {
   "cell_type": "markdown",
   "metadata": {
    "deletable": false,
    "editable": false
   },
   "source": [
    "<!-- BEGIN QUESTION -->\n",
    "\n",
    "### Q4.1\n",
    "\n",
    "$$\\sum_{x=0}^1 p(x|\\mu) = 1$$\n",
    "\n",
    "_Points:_ 0.25"
   ]
  },
  {
   "cell_type": "markdown",
   "metadata": {},
   "source": [
    "$$\\sum_{x=0}^1 p(x|\\mu) = \\mu^0(1-\\mu)^{1-0} + \\mu^1(1-\\mu)^{1-1}=1-\\mu+\\mu=1$$"
   ]
  },
  {
   "cell_type": "markdown",
   "metadata": {
    "deletable": false,
    "editable": false
   },
   "source": [
    "<!-- END QUESTION -->\n",
    "\n",
    "<!-- BEGIN QUESTION -->\n",
    "\n",
    "### Q4.2 \n",
    "\n",
    "$$\\mathbb{E}[x] = \\mu$$\n",
    "\n",
    "_Points:_ 0.25"
   ]
  },
  {
   "cell_type": "markdown",
   "metadata": {},
   "source": [
    "$$E[x] = 0*\\mu^0(1-\\mu)^1+1*\\mu^1(1-\\mu)^0 = \\mu$$"
   ]
  },
  {
   "cell_type": "markdown",
   "metadata": {
    "deletable": false,
    "editable": false
   },
   "source": [
    "<!-- END QUESTION -->\n",
    "\n",
    "<!-- BEGIN QUESTION -->\n",
    "\n",
    "### Q4.3 \n",
    "\n",
    "$$Var[x] = \\mu(1-\\mu)$$\n",
    "\n",
    "_Points:_ 0.35"
   ]
  },
  {
   "cell_type": "markdown",
   "metadata": {},
   "source": [
    "$$Var[x] = E[x^2]-E[x]^2 = 0*\\mu^0(1-\\mu)^1+1*\\mu^1(1-\\mu)^0 - \\mu^2 = \\mu - \\mu^2 = \\mu (1-\\mu)$$"
   ]
  },
  {
   "cell_type": "markdown",
   "metadata": {
    "deletable": false,
    "editable": false
   },
   "source": [
    "<!-- END QUESTION -->\n",
    "\n",
    "## Q5 Monty Hall (1 Points)\n",
    "In the Monty Hall problem, without loss of generality, consider that you originally chose Door 1, Monty opened Door 2, and $P(\\text{choose}=1, \\text{open}=2) = a$, calculate the following probabilities:"
   ]
  },
  {
   "cell_type": "markdown",
   "metadata": {
    "deletable": false,
    "editable": false
   },
   "source": [
    "<!-- BEGIN QUESTION -->\n",
    "\n",
    "### Q5.1 \n",
    "What is the probability of the car being behind Door 1 given that you chose Door 1 and Monty opened Door 2? i.e. $$P(\\text{car}=1|\\text{choose}=1, \\text{open}=2)$$\n",
    "\n",
    "_Points:_ 0.3"
   ]
  },
  {
   "cell_type": "markdown",
   "metadata": {},
   "source": [
    "$$P(\\text{car}=1|\\text{a}) = \\frac{P(\\text{a}| \\text{car}=1)P(\\text{car}=1)}{P(\\text{a})} = \\frac{\\frac{1}{2} * \\frac{1}{3}}{\\frac{1}{3}}$$"
   ]
  },
  {
   "cell_type": "markdown",
   "metadata": {},
   "source": [
    "#TODO\n",
    "stopped here. above is wrong^"
   ]
  },
  {
   "cell_type": "markdown",
   "metadata": {
    "deletable": false,
    "editable": false
   },
   "source": [
    "<!-- END QUESTION -->\n",
    "\n",
    "<!-- BEGIN QUESTION -->\n",
    "\n",
    "### Q5.2 \n",
    "\n",
    "What is the probability of the car being behind Door 3 given that you chose Door 1 and Monty opened Door 2?\n",
    "$$P(\\text{car}=3|\\text{choose}=1, \\text{open}=2)$$\n",
    "\n",
    "\n",
    "_Points:_ 0.3"
   ]
  },
  {
   "cell_type": "markdown",
   "metadata": {},
   "source": [
    "_Type your answer here, replacing this text._"
   ]
  },
  {
   "cell_type": "markdown",
   "metadata": {
    "deletable": false,
    "editable": false
   },
   "source": [
    "<!-- END QUESTION -->\n",
    "\n",
    "<!-- BEGIN QUESTION -->\n",
    "\n",
    "### Q5.3 \n",
    "Compare your answers from part(1) and part(2), which has a higher probability and should you switch the door? \n",
    "\n",
    "_Points:_ 0.4"
   ]
  },
  {
   "cell_type": "markdown",
   "metadata": {},
   "source": [
    "_Type your answer here, replacing this text._"
   ]
  },
  {
   "cell_type": "markdown",
   "metadata": {
    "deletable": false,
    "editable": false
   },
   "source": [
    "<!-- END QUESTION -->\n",
    "\n",
    "## Q6: MLE (2 Points)\n",
    "\n",
    "There are two datasets:\n",
    "\n",
    "- Coin flips (0=tails,1=heads): $\\mathcal{D}_1 = [0, 1, 1, 1, 1, 1, 0, 1, 1, 1]$\n",
    "- Male heights (cm): $\\mathcal{D}_2 = [202., 193., 190., 189., 210., 188., 175., 185., 152., 182.]$\n",
    "\n",
    "For each dataset answer the following questions...\n"
   ]
  },
  {
   "cell_type": "markdown",
   "metadata": {
    "deletable": false,
    "editable": false
   },
   "source": [
    "<!-- BEGIN QUESTION -->\n",
    "\n",
    "### Q6.1 What is the correct distribution to describe each dataset AND WHY?\n",
    "\n",
    "\n",
    "_Points:_ 0.4"
   ]
  },
  {
   "cell_type": "markdown",
   "metadata": {},
   "source": [
    "_Type your answer here, replacing this text._"
   ]
  },
  {
   "cell_type": "markdown",
   "metadata": {
    "deletable": false,
    "editable": false
   },
   "source": [
    "<!-- END QUESTION -->\n",
    "\n",
    "<!-- BEGIN QUESTION -->\n",
    "\n",
    "### Q6.2 \n",
    "Write down the likelihood function $P(D|\\theta)$ for each distribution. \n",
    "\n",
    "Note this will be in term of a product of PDFs for each datapoint in the dataset $D$ because these processes are assumed to be statistically independent.   \n",
    "\n",
    "\n",
    "_Points:_ 0.6"
   ]
  },
  {
   "cell_type": "markdown",
   "metadata": {},
   "source": [
    "$$\\text{Binomial distribution:}$$\n",
    "$$P(D_1|\\theta) = \\prod_{k=1}^{n} \\theta^{x_k}(1-\\theta)^{1-x_k}$$\n",
    "$$P(D_2|\\theta) =$$"
   ]
  },
  {
   "cell_type": "markdown",
   "metadata": {
    "deletable": false,
    "editable": false
   },
   "source": [
    "<!-- END QUESTION -->\n",
    "\n",
    "<!-- BEGIN QUESTION -->\n",
    "\n",
    "### Q6.3 Write down the log likelihood function only for the coin datasets, and simplify it enough to get rid of products and exponents.\n",
    "\n",
    "_Note:_ You don't have to calculate the exact likelihood values, you can use $x_k$ to represent the $k^{\\text{th}}$ value in the \n",
    "\n",
    "_Points:_ 0.4"
   ]
  },
  {
   "cell_type": "markdown",
   "metadata": {},
   "source": [
    "_Type your answer here, replacing this text._"
   ]
  },
  {
   "cell_type": "markdown",
   "metadata": {
    "deletable": false,
    "editable": false
   },
   "source": [
    "<!-- END QUESTION -->\n",
    "\n",
    "<!-- BEGIN QUESTION -->\n",
    "\n",
    "### Q6.4 Only for the coin dataset: how would you use the log likelihood function to analytically solve for the MLE of $\\theta$? \n",
    "Note you don't have to do all the derivation and simplification, but kudos to you if you can.  At the very least describe the procedure in words and/or sketch out  the beginning of the derivation. The idea is we want you to demonstrate that you understand the concept of MLE, so whatever you think is sufficient to do that.\n",
    "\n",
    "\n",
    "\n",
    "_Points:_ 0.4"
   ]
  },
  {
   "cell_type": "markdown",
   "metadata": {},
   "source": [
    "_Type your answer here, replacing this text._"
   ]
  },
  {
   "cell_type": "markdown",
   "metadata": {
    "deletable": false,
    "editable": false
   },
   "source": [
    "<!-- END QUESTION -->\n",
    "\n",
    "<!-- BEGIN QUESTION -->\n",
    "\n",
    "### Q6.5 For both datasets, what is the equation for the MLE of $\\theta$?  What are the values for each dataset? \n",
    "Even if you didn't derive it from first principles, you should still know what the equation is for the MLE. Write down the proper equation, and calculate the value (actual number) of that MLE.\n",
    "\n",
    "_Points:_ 0.2"
   ]
  },
  {
   "cell_type": "markdown",
   "metadata": {},
   "source": [
    "_Type your answer here, replacing this text._"
   ]
  },
  {
   "cell_type": "markdown",
   "metadata": {
    "deletable": false,
    "editable": false
   },
   "source": [
    "<!-- END QUESTION -->\n",
    "\n",
    "## Q7 Bayesian Estimation (2 Points)\n",
    "\n",
    "Let's use Bayesian techniques to tackle the same data on coin flips we previously addressed with MLE (0=tails,1=heads): $\\mathcal{D}_1 = [0, 1, 1, 1, 1, 1, 0, 1, 1, 1]$"
   ]
  },
  {
   "cell_type": "markdown",
   "metadata": {
    "deletable": false,
    "editable": false
   },
   "source": [
    "<!-- BEGIN QUESTION -->\n",
    "\n",
    "### Q7.1 What is the correct conjugate prior?\n",
    "Given the likelihood function you already wrote down in Q6.2, what's the proper conjugate prior distribution for that likelihood function? Why that one?\n",
    "\n",
    "\n",
    "_Points:_ 0.3"
   ]
  },
  {
   "cell_type": "markdown",
   "metadata": {},
   "source": [
    "_Type your answer here, replacing this text._"
   ]
  },
  {
   "cell_type": "markdown",
   "metadata": {
    "deletable": false,
    "editable": false
   },
   "source": [
    "<!-- END QUESTION -->\n",
    "\n",
    "<!-- BEGIN QUESTION -->\n",
    "\n",
    "### Q7.2 Write down that Bayes equation for calculating the posterior distribution $P(\\theta | D)$\n",
    "Do this in terms of the likelihood fuction and prior you have selected.  Use $n$ as the number of flips and $x$ as the number of heads in those flips.\n",
    "\n",
    "_Points:_ 0.3"
   ]
  },
  {
   "cell_type": "markdown",
   "metadata": {},
   "source": [
    "_Type your answer here, replacing this text._"
   ]
  },
  {
   "cell_type": "markdown",
   "metadata": {
    "deletable": false,
    "editable": false
   },
   "source": [
    "<!-- END QUESTION -->\n",
    "\n",
    "<!-- BEGIN QUESTION -->\n",
    "\n",
    "### Q7.3 Special interprestation of prior parameters\n",
    "There is a special interpretation of the parameters for the prior distribution, where we can talk about them as a virtual coin flipping experiment. Describe the relationship in words. Tell us WHY this works in either words or math, your choice.\n",
    "\n",
    "_Hint:_ see the slides from lecture, or if you simplified your answer to 7.2 above you can see it there\n",
    "\n",
    "_Points:_ 0.2"
   ]
  },
  {
   "cell_type": "markdown",
   "metadata": {},
   "source": [
    "_Type your answer here, replacing this text._"
   ]
  },
  {
   "cell_type": "markdown",
   "metadata": {
    "deletable": false,
    "editable": false
   },
   "source": [
    "<!-- END QUESTION -->\n",
    "\n",
    "### Q7.4 What parameters of the prior would make it  \"uninformative\" ? \n",
    "\n",
    "Plot the uniformative prior using the following stub, replacing `DISTRIBUTION` with a string containing the scipy name for the prior distribution and `a,b` with the prior's parameters. [Scipy docs](https://docs.scipy.org/doc/scipy/reference/stats.html) are your best friend! If any line of the stub below is unfamiliar/unclear you should look at the appropriate library documentation. We will need these kinds of libraries all the time, so you must be comfortable with them.\n",
    "\n",
    "\n",
    "_Points:_ 1"
   ]
  },
  {
   "cell_type": "code",
   "execution_count": null,
   "metadata": {
    "tags": []
   },
   "outputs": [],
   "source": [
    "import matplotlib.pyplot as plt\n",
    "import numpy as np\n",
    "import seaborn as sns\n",
    "%matplotlib inline\n",
    "%config InlineBackend.figure_format='retina'\n",
    "sns.set_style('white')\n",
    "xvs = np.arange(0,1,0.01)\n",
    "\n",
    "# prior parameters\n",
    "DISTRIBUTION = ...\n",
    "a = ...\n",
    "b = ...\n",
    "\n",
    "# the statement below will import the function you defined as a string above\n",
    "exec(f'from scipy.stats import {DISTRIBUTION}')\n",
    "\n",
    "def calc_pdf(xvs, a, b):\n",
    "    \"\"\"\n",
    "    for each x value in the xvs, calculate their \n",
    "    corresponding pdf of the distribution of your choice\n",
    "\n",
    "    Return: a list of pdf that has the same length as x_axis\n",
    "    \"\"\"\n",
    "    ...\n",
    "\n",
    "# likelihood parameters from the data \n",
    "n = ...\n",
    "x = ...\n",
    "\n",
    "# put your MLE solution from Q7.5 here\n",
    "mle = ...\n",
    "\n",
    "\n",
    "def plot_74():\n",
    "    # for each y_values, use `calc_pdf` to map the x-axis to the y\n",
    "    plt.plot(\n",
    "        xvs, \n",
    "        ...\n",
    "        label=f'prior a={a},b={b}' \n",
    "    )\n",
    "    \n",
    "    plt.plot(\n",
    "        xvs, \n",
    "        ...\n",
    "        label=f'posterior | data x={x},n={n}' \n",
    "    )\n",
    "    \n",
    "    plt.axvline(\n",
    "        mle, \n",
    "        linestyle=\"--\",\n",
    "        color='r',\n",
    "        label=f'MLE={mle}'\n",
    "    )\n",
    "    \n",
    "    sns.despine()\n",
    "    plt.legend(loc='upper left');\n",
    "    plt.title('Uninformative prior');\n",
    "\n",
    "plot_74()"
   ]
  },
  {
   "cell_type": "code",
   "execution_count": null,
   "metadata": {
    "deletable": false,
    "editable": false
   },
   "outputs": [],
   "source": [
    "grader.check(\"74_bayesian_est\")"
   ]
  },
  {
   "cell_type": "markdown",
   "metadata": {
    "deletable": false,
    "editable": false
   },
   "source": [
    "<!-- BEGIN QUESTION -->\n",
    "\n",
    "### Q7.5 Graph Interpretation\n",
    "\n",
    "Describe what you see in the previous graph. Which distribution the uninformative prior looks like? How does prior influence the posterior? How does the MLE similar or different from the posterior distribution with this particular prior?\n",
    "\n",
    "_Points:_ 0.2"
   ]
  },
  {
   "cell_type": "code",
   "execution_count": null,
   "metadata": {
    "deletable": false,
    "editable": false
   },
   "outputs": [],
   "source": [
    "plot_74()"
   ]
  },
  {
   "cell_type": "markdown",
   "metadata": {},
   "source": [
    "_Type your answer here, replacing this text._"
   ]
  },
  {
   "cell_type": "markdown",
   "metadata": {
    "deletable": false,
    "editable": false
   },
   "source": [
    "<!-- END QUESTION -->\n",
    "\n",
    "## Q8 Maximum A Posteriori (MAP) (2 Points)\n",
    "\n",
    "In Q8 we were doing full Bayesian estimation... the plots of the posterior in the questions above show the distribution of possible parameters. But sometimes we are interested in where the maximum value of the posterior distribution lies; this peak is called the Maximum A Posteriori estimate. "
   ]
  },
  {
   "cell_type": "markdown",
   "metadata": {
    "deletable": false,
    "editable": false
   },
   "source": [
    "<!-- BEGIN QUESTION -->\n",
    "\n",
    "### Q8.1 Intuition of MAP\n",
    "\n",
    "What are the similarities between MLE and MAP? What does MAP take into account that MLE does not? \n",
    "\n",
    "What are the similarities between MAP and Bayesian estimation? What does Bayesian take into account that MAP does not?\n",
    "\n",
    "\n",
    "_Points:_ 0.4"
   ]
  },
  {
   "cell_type": "markdown",
   "metadata": {},
   "source": [
    "_Type your answer here, replacing this text._"
   ]
  },
  {
   "cell_type": "markdown",
   "metadata": {
    "deletable": false,
    "editable": false
   },
   "source": [
    "<!-- END QUESTION -->\n",
    "\n",
    "<!-- BEGIN QUESTION -->\n",
    "\n",
    "### Q8.2 MAP estimate for the coin flipping dataset \n",
    "\n",
    "Recall that the posterior of the coin flipping task is the same kind of distribution as the prior.\n",
    "\n",
    "What kind of distribution is the posterior? What is the generic equation for the peak (i.e., mode) of that distribution? In words, describe why that is the peak.\n",
    "\n",
    "Write down the equations for the MAP estimate of the coin flipping task. Parameterize it in terms of the prior parameters `a,b` and the likelihood parameters `x` (the number of heads) and `n` (the number of total flips). It may help you to look at the answer to Q7.2\n",
    "\n",
    "_Points:_ 0.4"
   ]
  },
  {
   "cell_type": "markdown",
   "metadata": {},
   "source": [
    "_Type your answer here, replacing this text._"
   ]
  },
  {
   "cell_type": "markdown",
   "metadata": {
    "deletable": false,
    "editable": false
   },
   "source": [
    "<!-- END QUESTION -->\n",
    "\n",
    "### Q8.3 Plotting MAP\n",
    "For this version of the coins example... lets say that the prior should be a symmetric prior centered at $\\theta=0.5$ that indicates we think this coin is pretty likely to be fair. Pick any set of prior parameters $a,b$ that reflect this requirement.\n",
    "\n",
    "As before the observed data are (0=tails,1=heads): $\\mathcal{D}_1 = [0, 1, 1, 1, 1, 1, 0, 1, 1, 1]$\n",
    "\n",
    "Use the code below and the parameters above to plot MLE, the full Bayesian estimate of the posterior distribution, and the MAP.\n",
    "\n",
    "\n",
    "_Points:_ 0.8"
   ]
  },
  {
   "cell_type": "code",
   "execution_count": null,
   "metadata": {
    "tags": []
   },
   "outputs": [],
   "source": [
    "import matplotlib.pyplot as plt\n",
    "import numpy as np\n",
    "import seaborn as sns\n",
    "%matplotlib inline\n",
    "sns.set_style('white')\n",
    "xvs = np.arange(0,1,0.005)\n",
    "\n",
    "# prior parameters\n",
    "DISTRIBUTION = ...\n",
    "\n",
    "# careful about the name. Use a_1 and b_1 instead of a and b\n",
    "a_1 = ...\n",
    "b_1 = ...\n",
    "\n",
    "# the statement below will import the function you defined as a string above\n",
    "exec(f'from scipy.stats import {DISTRIBUTION}')\n",
    "\n",
    "# likelihood parameters from the data \n",
    "n = ...\n",
    "x = ...\n",
    "\n",
    "# put your MLE solution from Q7.5 here\n",
    "mle = ...\n",
    "\n",
    "# put your MAP solution from Q8.2 here\n",
    "# careful about the name. Use a_1 and b_1 instead of a and b\n",
    "MAP = ...\n",
    "\n",
    "def plot_83():\n",
    "    # careful about the name. Use a_1 and b_1 instead of a and b\n",
    "    # for each y_values, use `calc_pdf` from Q8 to map the x-axis to the y\n",
    "    plt.plot(\n",
    "        xvs, \n",
    "        ...\n",
    "        label=f'prior a={a_1},b={b_1}' \n",
    "    )\n",
    "    \n",
    "    plt.plot(\n",
    "        xvs, \n",
    "        ...\n",
    "        label=f'posterior | data x={x},n={n}' \n",
    "    )\n",
    "    \n",
    "    # plot the MLE line\n",
    "    plt.axvline(\n",
    "        mle, \n",
    "        color='r',\n",
    "        linestyle=\"--\",\n",
    "        label=f'MLE={mle}'\n",
    "    )\n",
    "    \n",
    "    # plot the MAP line\n",
    "    plt.axvline(\n",
    "        MAP, \n",
    "        color='g',\n",
    "        linestyle=\"--\",\n",
    "        label=f'MAP={MAP}'\n",
    "    )\n",
    "    \n",
    "    sns.despine()\n",
    "    plt.legend(loc='upper left');\n",
    "    plt.title('Previous data prior');\n",
    "\n",
    "plot_83()"
   ]
  },
  {
   "cell_type": "code",
   "execution_count": null,
   "metadata": {
    "deletable": false,
    "editable": false
   },
   "outputs": [],
   "source": [
    "grader.check(\"83_MAP\")"
   ]
  },
  {
   "cell_type": "markdown",
   "metadata": {
    "deletable": false,
    "editable": false
   },
   "source": [
    "<!-- BEGIN QUESTION -->\n",
    "\n",
    "### Q8.4 Graph Interpretation\n",
    "\n",
    "Describe what you see in the previous graph. How does prior influence the posterior? Compare the MLE and MAP estimate. Explain why the two estimate value are different, or the same.\n",
    "\n",
    "_Points:_ 0.4"
   ]
  },
  {
   "cell_type": "code",
   "execution_count": null,
   "metadata": {
    "deletable": false,
    "editable": false
   },
   "outputs": [],
   "source": [
    "plot_83()"
   ]
  },
  {
   "cell_type": "markdown",
   "metadata": {},
   "source": [
    "_Type your answer here, replacing this text._"
   ]
  },
  {
   "cell_type": "markdown",
   "metadata": {
    "deletable": false,
    "editable": false,
    "nbgrader": {
     "grade": false,
     "grade_id": "cell-724d3a177f93690b",
     "locked": true,
     "schema_version": 3,
     "solution": false
    }
   },
   "source": [
    "<!-- END QUESTION -->\n",
    "\n",
    "## The End of A1!\n",
    "\n",
    "This is the end of the A1.\n",
    "\n",
    "Have a look back over your answers, and also make sure to `Restart & Run All` from the kernel menu to double check that everything is working properly. This restarts everything and runs your code from top to bottom.\n",
    "\n",
    "Once you're happy with your work, click the disk icon to save, and submit the zip file onto gradescope. **You MUST submit all the required component to receive credit.**\n",
    "\n",
    "Note that you can submit at any time, but **we grade your most recent submission**. This means that **if you submit an updated notebook after the submission deadline, it will be marked as late**."
   ]
  },
  {
   "cell_type": "markdown",
   "metadata": {},
   "source": [
    "_Note:_ If you encountered `LatexFailed` message during exporting, or has the `AttributeError: module 'nbconvert' has no attribute 'pdf'` error, it indicates that your $\\LaTeX$ code is not correct. Try to the LaTeX syntax error by scrolling up to see the LaTeX error message. If you need any additional helps, please make a private post on campuswire and we are happy to help."
   ]
  },
  {
   "cell_type": "markdown",
   "metadata": {
    "deletable": false,
    "editable": false
   },
   "source": [
    "## Submission\n",
    "\n",
    "Make sure you have run all cells in your notebook in order before running the cell below, so that all images/graphs appear in the output. The cell below will generate a zip file for you to submit.\n",
    "\n",
    "Please make sure to see the output of the gradescope autograder. You are responsible for waiting and ensuring that the autograder is executing normally for your submission. Please create a campuswire post if you see errors in autograder execution."
   ]
  },
  {
   "cell_type": "code",
   "execution_count": null,
   "metadata": {
    "deletable": false,
    "editable": false
   },
   "outputs": [
    {
     "data": {
      "application/javascript": "\n            if (typeof Jupyter !== 'undefined') {\n                Jupyter.notebook.save_checkpoint();\n            }\n        ",
      "text/plain": [
       "<IPython.core.display.Javascript object>"
      ]
     },
     "metadata": {},
     "output_type": "display_data"
    },
    {
     "name": "stderr",
     "output_type": "stream",
     "text": [
      "/Users/olimpiacarrioli/Assignments_WI24/COGS118B_venv/lib/python3.9/site-packages/nbconvert/utils/pandoc.py:51: RuntimeWarning: You are using an unsupported version of pandoc (2.12).\n",
      "Your version must be at least (2.14.2) but less than (4.0.0).\n",
      "Refer to https://pandoc.org/installing.html.\n",
      "Continuing with doubts...\n",
      "  check_pandoc_version()\n"
     ]
    },
    {
     "name": "stdout",
     "output_type": "stream",
     "text": [
      "Running your submission against local test cases...\n",
      "\n",
      "\n",
      "Your submission received the following results when run against available test cases:\n",
      "\n",
      "    74_bayesian_est results:\n",
      "        74_bayesian_est - 1 result:\n",
      "            ❌ Test case failed\n",
      "            Trying:\n",
      "                assert isinstance(a, int), 'is your a an integer'\n",
      "            Expecting nothing\n",
      "            **********************************************************************\n",
      "            Line 1, in 74_bayesian_est 0\n",
      "            Failed example:\n",
      "                assert isinstance(a, int), 'is your a an integer'\n",
      "            Exception raised:\n",
      "                Traceback (most recent call last):\n",
      "                  File \"/Library/Developer/CommandLineTools/Library/Frameworks/Python3.framework/Versions/3.9/lib/python3.9/doctest.py\", line 1336, in __run\n",
      "                    exec(compile(example.source, filename, \"single\",\n",
      "                  File \"<doctest 74_bayesian_est 0[0]>\", line 1, in <module>\n",
      "                    assert isinstance(a, int), 'is your a an integer'\n",
      "                NameError: name 'a' is not defined\n",
      "            Trying:\n",
      "                assert isinstance(b, int), 'is your b an integer'\n",
      "            Expecting nothing\n",
      "            **********************************************************************\n",
      "            Line 2, in 74_bayesian_est 0\n",
      "            Failed example:\n",
      "                assert isinstance(b, int), 'is your b an integer'\n",
      "            Exception raised:\n",
      "                Traceback (most recent call last):\n",
      "                  File \"/Library/Developer/CommandLineTools/Library/Frameworks/Python3.framework/Versions/3.9/lib/python3.9/doctest.py\", line 1336, in __run\n",
      "                    exec(compile(example.source, filename, \"single\",\n",
      "                  File \"<doctest 74_bayesian_est 0[1]>\", line 1, in <module>\n",
      "                    assert isinstance(b, int), 'is your b an integer'\n",
      "                NameError: name 'b' is not defined\n",
      "            Trying:\n",
      "                assert isinstance(x, int), 'is your x an integer'\n",
      "            Expecting nothing\n",
      "            **********************************************************************\n",
      "            Line 3, in 74_bayesian_est 0\n",
      "            Failed example:\n",
      "                assert isinstance(x, int), 'is your x an integer'\n",
      "            Exception raised:\n",
      "                Traceback (most recent call last):\n",
      "                  File \"/Library/Developer/CommandLineTools/Library/Frameworks/Python3.framework/Versions/3.9/lib/python3.9/doctest.py\", line 1336, in __run\n",
      "                    exec(compile(example.source, filename, \"single\",\n",
      "                  File \"<doctest 74_bayesian_est 0[2]>\", line 1, in <module>\n",
      "                    assert isinstance(x, int), 'is your x an integer'\n",
      "                NameError: name 'x' is not defined\n",
      "            Trying:\n",
      "                assert isinstance(n, int), 'is your n an integer'\n",
      "            Expecting nothing\n",
      "            **********************************************************************\n",
      "            Line 4, in 74_bayesian_est 0\n",
      "            Failed example:\n",
      "                assert isinstance(n, int), 'is your n an integer'\n",
      "            Exception raised:\n",
      "                Traceback (most recent call last):\n",
      "                  File \"/Library/Developer/CommandLineTools/Library/Frameworks/Python3.framework/Versions/3.9/lib/python3.9/doctest.py\", line 1336, in __run\n",
      "                    exec(compile(example.source, filename, \"single\",\n",
      "                  File \"<doctest 74_bayesian_est 0[3]>\", line 1, in <module>\n",
      "                    assert isinstance(n, int), 'is your n an integer'\n",
      "                NameError: name 'n' is not defined\n",
      "            Trying:\n",
      "                assert isinstance(mle, float), 'is your mle a float'\n",
      "            Expecting nothing\n",
      "            **********************************************************************\n",
      "            Line 5, in 74_bayesian_est 0\n",
      "            Failed example:\n",
      "                assert isinstance(mle, float), 'is your mle a float'\n",
      "            Exception raised:\n",
      "                Traceback (most recent call last):\n",
      "                  File \"/Library/Developer/CommandLineTools/Library/Frameworks/Python3.framework/Versions/3.9/lib/python3.9/doctest.py\", line 1336, in __run\n",
      "                    exec(compile(example.source, filename, \"single\",\n",
      "                  File \"<doctest 74_bayesian_est 0[4]>\", line 1, in <module>\n",
      "                    assert isinstance(mle, float), 'is your mle a float'\n",
      "                NameError: name 'mle' is not defined\n",
      "            Trying:\n",
      "                assert isinstance(DISTRIBUTION, str), 'is your prior/posterior a string describing a scipy.stats distribution'\n",
      "            Expecting nothing\n",
      "            **********************************************************************\n",
      "            Line 6, in 74_bayesian_est 0\n",
      "            Failed example:\n",
      "                assert isinstance(DISTRIBUTION, str), 'is your prior/posterior a string describing a scipy.stats distribution'\n",
      "            Exception raised:\n",
      "                Traceback (most recent call last):\n",
      "                  File \"/Library/Developer/CommandLineTools/Library/Frameworks/Python3.framework/Versions/3.9/lib/python3.9/doctest.py\", line 1336, in __run\n",
      "                    exec(compile(example.source, filename, \"single\",\n",
      "                  File \"<doctest 74_bayesian_est 0[5]>\", line 1, in <module>\n",
      "                    assert isinstance(DISTRIBUTION, str), 'is your prior/posterior a string describing a scipy.stats distribution'\n",
      "                NameError: name 'DISTRIBUTION' is not defined\n",
      "\n",
      "    83_MAP results:\n",
      "        83_MAP - 1 result:\n",
      "            ❌ Test case failed\n",
      "            Trying:\n",
      "                assert isinstance(a_1, int), 'is your a an integer'\n",
      "            Expecting nothing\n",
      "            **********************************************************************\n",
      "            Line 1, in 83_MAP 0\n",
      "            Failed example:\n",
      "                assert isinstance(a_1, int), 'is your a an integer'\n",
      "            Exception raised:\n",
      "                Traceback (most recent call last):\n",
      "                  File \"/Library/Developer/CommandLineTools/Library/Frameworks/Python3.framework/Versions/3.9/lib/python3.9/doctest.py\", line 1336, in __run\n",
      "                    exec(compile(example.source, filename, \"single\",\n",
      "                  File \"<doctest 83_MAP 0[0]>\", line 1, in <module>\n",
      "                    assert isinstance(a_1, int), 'is your a an integer'\n",
      "                NameError: name 'a_1' is not defined\n",
      "            Trying:\n",
      "                assert isinstance(b_1, int), 'is your b an integer'\n",
      "            Expecting nothing\n",
      "            **********************************************************************\n",
      "            Line 2, in 83_MAP 0\n",
      "            Failed example:\n",
      "                assert isinstance(b_1, int), 'is your b an integer'\n",
      "            Exception raised:\n",
      "                Traceback (most recent call last):\n",
      "                  File \"/Library/Developer/CommandLineTools/Library/Frameworks/Python3.framework/Versions/3.9/lib/python3.9/doctest.py\", line 1336, in __run\n",
      "                    exec(compile(example.source, filename, \"single\",\n",
      "                  File \"<doctest 83_MAP 0[1]>\", line 1, in <module>\n",
      "                    assert isinstance(b_1, int), 'is your b an integer'\n",
      "                NameError: name 'b_1' is not defined\n",
      "            Trying:\n",
      "                assert isinstance(x, int), 'is your x an integer'\n",
      "            Expecting nothing\n",
      "            **********************************************************************\n",
      "            Line 3, in 83_MAP 0\n",
      "            Failed example:\n",
      "                assert isinstance(x, int), 'is your x an integer'\n",
      "            Exception raised:\n",
      "                Traceback (most recent call last):\n",
      "                  File \"/Library/Developer/CommandLineTools/Library/Frameworks/Python3.framework/Versions/3.9/lib/python3.9/doctest.py\", line 1336, in __run\n",
      "                    exec(compile(example.source, filename, \"single\",\n",
      "                  File \"<doctest 83_MAP 0[2]>\", line 1, in <module>\n",
      "                    assert isinstance(x, int), 'is your x an integer'\n",
      "                NameError: name 'x' is not defined\n",
      "            Trying:\n",
      "                assert isinstance(n, int), 'is your n an integer'\n",
      "            Expecting nothing\n",
      "            **********************************************************************\n",
      "            Line 4, in 83_MAP 0\n",
      "            Failed example:\n",
      "                assert isinstance(n, int), 'is your n an integer'\n",
      "            Exception raised:\n",
      "                Traceback (most recent call last):\n",
      "                  File \"/Library/Developer/CommandLineTools/Library/Frameworks/Python3.framework/Versions/3.9/lib/python3.9/doctest.py\", line 1336, in __run\n",
      "                    exec(compile(example.source, filename, \"single\",\n",
      "                  File \"<doctest 83_MAP 0[3]>\", line 1, in <module>\n",
      "                    assert isinstance(n, int), 'is your n an integer'\n",
      "                NameError: name 'n' is not defined\n",
      "            Trying:\n",
      "                assert isinstance(mle, float), 'is your mle a float'\n",
      "            Expecting nothing\n",
      "            **********************************************************************\n",
      "            Line 5, in 83_MAP 0\n",
      "            Failed example:\n",
      "                assert isinstance(mle, float), 'is your mle a float'\n",
      "            Exception raised:\n",
      "                Traceback (most recent call last):\n",
      "                  File \"/Library/Developer/CommandLineTools/Library/Frameworks/Python3.framework/Versions/3.9/lib/python3.9/doctest.py\", line 1336, in __run\n",
      "                    exec(compile(example.source, filename, \"single\",\n",
      "                  File \"<doctest 83_MAP 0[4]>\", line 1, in <module>\n",
      "                    assert isinstance(mle, float), 'is your mle a float'\n",
      "                NameError: name 'mle' is not defined\n",
      "            Trying:\n",
      "                assert isinstance(DISTRIBUTION, str), 'is your prior/posterior a string describing a scipy.stats distribution'\n",
      "            Expecting nothing\n",
      "            **********************************************************************\n",
      "            Line 6, in 83_MAP 0\n",
      "            Failed example:\n",
      "                assert isinstance(DISTRIBUTION, str), 'is your prior/posterior a string describing a scipy.stats distribution'\n",
      "            Exception raised:\n",
      "                Traceback (most recent call last):\n",
      "                  File \"/Library/Developer/CommandLineTools/Library/Frameworks/Python3.framework/Versions/3.9/lib/python3.9/doctest.py\", line 1336, in __run\n",
      "                    exec(compile(example.source, filename, \"single\",\n",
      "                  File \"<doctest 83_MAP 0[5]>\", line 1, in <module>\n",
      "                    assert isinstance(DISTRIBUTION, str), 'is your prior/posterior a string describing a scipy.stats distribution'\n",
      "                NameError: name 'DISTRIBUTION' is not defined\n"
     ]
    },
    {
     "data": {
      "text/html": [
       "\n",
       "                    <p>\n",
       "                        Your submission has been exported. Click\n",
       "                        <a href=\"A1_2024_01_18T15_55_59_378035.zip\" download=\"A1_2024_01_18T15_55_59_378035.zip\" target=\"_blank\">here</a> to download\n",
       "                        the zip file.\n",
       "                    </p>\n",
       "                "
      ],
      "text/plain": [
       "<IPython.core.display.HTML object>"
      ]
     },
     "metadata": {},
     "output_type": "display_data"
    }
   ],
   "source": [
    "grader.export(force_save=True, run_tests=True, files=['imgs'])"
   ]
  },
  {
   "cell_type": "markdown",
   "metadata": {},
   "source": [
    " "
   ]
  }
 ],
 "metadata": {
  "celltoolbar": "Raw Cell Format",
  "kernelspec": {
   "display_name": "Python 3.9.6 ('COGS118B_venv': venv)",
   "language": "python",
   "name": "python3"
  },
  "language_info": {
   "codemirror_mode": {
    "name": "ipython",
    "version": 3
   },
   "file_extension": ".py",
   "mimetype": "text/x-python",
   "name": "python",
   "nbconvert_exporter": "python",
   "pygments_lexer": "ipython3",
   "version": "3.9.6"
  },
  "otter": {
   "OK_FORMAT": true,
   "tests": {
    "74_bayesian_est": {
     "name": "74_bayesian_est",
     "points": 1,
     "suites": [
      {
       "cases": [
        {
         "code": ">>> assert isinstance(a, int), 'is your a an integer'\n>>> assert isinstance(b, int), 'is your b an integer'\n>>> assert isinstance(x, int), 'is your x an integer'\n>>> assert isinstance(n, int), 'is your n an integer'\n>>> assert isinstance(mle, float), 'is your mle a float'\n>>> assert isinstance(DISTRIBUTION, str), 'is your prior/posterior a string describing a scipy.stats distribution'\n",
         "hidden": false,
         "locked": false,
         "points": 0
        }
       ],
       "scored": true,
       "setup": "",
       "teardown": "",
       "type": "doctest"
      }
     ]
    },
    "83_MAP": {
     "name": "83_MAP",
     "points": 0.8,
     "suites": [
      {
       "cases": [
        {
         "code": ">>> assert isinstance(a_1, int), 'is your a an integer'\n>>> assert isinstance(b_1, int), 'is your b an integer'\n>>> assert isinstance(x, int), 'is your x an integer'\n>>> assert isinstance(n, int), 'is your n an integer'\n>>> assert isinstance(mle, float), 'is your mle a float'\n>>> assert isinstance(DISTRIBUTION, str), 'is your prior/posterior a string describing a scipy.stats distribution'\n",
         "hidden": false,
         "locked": false,
         "points": 0
        }
       ],
       "scored": true,
       "setup": "",
       "teardown": "",
       "type": "doctest"
      }
     ]
    }
   }
  },
  "vscode": {
   "interpreter": {
    "hash": "abf7fcaefc4a189cd06afed186784f85562a0c697c62217a7c548305a9cd37f6"
   }
  }
 },
 "nbformat": 4,
 "nbformat_minor": 4
}
